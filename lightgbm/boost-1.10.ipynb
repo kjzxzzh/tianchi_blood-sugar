{
 "cells": [
  {
   "cell_type": "code",
   "execution_count": 28,
   "metadata": {},
   "outputs": [],
   "source": [
    "import numpy as np\n",
    "import pandas as pd\n",
    "import xgboost as xgb\n",
    "from sklearn.preprocessing import LabelEncoder\n",
    "import lightgbm as lgb\n",
    "import gc\n",
    "from sklearn.cross_validation import train_test_split\n",
    "from sklearn.metrics import accuracy_score\n",
    "import random \n",
    "from sklearn.linear_model import LinearRegression\n",
    "from sklearn.metrics import mean_squared_error, r2_score\n",
    "regr = LinearRegression()"
   ]
  },
  {
   "cell_type": "code",
   "execution_count": 29,
   "metadata": {},
   "outputs": [
    {
     "name": "stdout",
     "output_type": "stream",
     "text": [
      "0\n",
      "0.872895314226\n",
      "0.969906531166\n",
      "1.96700239936\n",
      "\n"
     ]
    }
   ],
   "source": [
    "sum1 = 0\n",
    "sum2 = 0\n",
    "sum3 = 0\n",
    "N = 1\n",
    "for i in range(N):\n",
    "    df_train = pd.read_csv('c://train2.csv',encoding='GB2312')\n",
    "    # df_train\n",
    "\n",
    "    for c, dtype in zip(df_train.columns, df_train.dtypes):\n",
    "        if dtype == np.float64:\n",
    "            df_train[c] = df_train[c].astype(np.float32)\n",
    "\n",
    "    df_train = df_train[df_train['血糖'] < 20]\n",
    "#     df_train = df_train[df_train['血糖'] > 3]\n",
    "    print(i)\n",
    "\n",
    "    df_train.fillna(df_train.median(),inplace = True)\n",
    "    # df_train.fillna(0,inplace = True)\n",
    "    df_train = df_train.replace('男',1)\n",
    "    df_train = df_train.replace('女',0)\n",
    "    df_train = df_train.replace('??',0)\n",
    "\n",
    "    x_train  = df_train.drop(['血糖','体检日期','id'], axis=1) #,'白球比例' ,'*球蛋白'  ,,'乙肝e抗原','id'\n",
    "#     print(x_train)\n",
    "    # x_train = x_train.drop(['乙肝表面抗原', '乙肝表面抗体', '乙肝e抗原', '乙肝e抗体', '乙肝核心抗体'], axis=1)\n",
    "    # x_train\n",
    "\n",
    "    y_train = df_train['血糖'].values\n",
    "\n",
    "    y_train\n",
    "\n",
    "    x_train, test_feature, y_train, test_labels = train_test_split(\n",
    "            x_train, y_train, test_size=0.0001, random_state=i +1 )\n",
    "    # x_train, test_feature, y_train, test_labels = train_test_split(\n",
    "    #         x_train, y_train, test_size=0.1, random_state=1)\n",
    "    y_train\n",
    "    y_pred = regr.fit(x_train, y_train).predict(test_feature)\n",
    "    y_pred\n",
    "\n",
    "    train_columns = x_train.columns\n",
    "\n",
    "    for c in x_train.dtypes[x_train.dtypes == object].index.values:\n",
    "        x_train[c] = (x_train[c] == True)\n",
    "\n",
    "    del df_train; gc.collect()\n",
    "\n",
    "\n",
    "    x_train = x_train.values.astype(np.float32, copy=False)\n",
    "    d_train = lgb.Dataset(x_train, label=y_train)\n",
    "\n",
    "    params = {}\n",
    "    params['max_bin'] = 10\n",
    "    params['learning_rate'] =0.0165# shrinkage_rate\n",
    "    params['boosting_type'] = 'gbdt'\n",
    "    params['objective'] = 'regression'\n",
    "    params['metric'] = 'mae'          # or 'mae'\n",
    "    params['sub_feature'] = 0.58     # feature_fraction -- OK, back to .5, but maybe later increase this\n",
    "    params['bagging_fraction'] = 0.7 # sub_row\n",
    "    params['bagging_freq'] = 2\n",
    "    params['num_leaves'] = 12        # num_leaf\n",
    "    params['min_data'] = 10        # min_data_in_leaf\n",
    "    params['min_hessian'] = 0.01     # min_sum_hessian_in_leaf\n",
    "    params['verbose'] = 0\n",
    "\n",
    "    clf = lgb.train(params, d_train, 450)\n",
    "\n",
    "    del d_train; gc.collect()\n",
    "    del x_train; gc.collect()\n",
    "\n",
    "    # df_test  = pd.read_csv('c://test.csv')\n",
    "    df_test = test_feature\n",
    "\n",
    "    x_test = df_test[train_columns]\n",
    "    x_test = x_test.replace('男',1)\n",
    "    x_test = x_test.replace('女',0)\n",
    "    # x_test\n",
    "\n",
    "    for c in x_test.dtypes[x_test.dtypes == object].index.values:\n",
    "        x_test[c] = (x_test[c] == True)\n",
    "\n",
    "    x_test = x_test.values.astype(np.float32, copy=False)\n",
    "\n",
    "\n",
    "    clf.reset_parameter({\"num_threads\":1})\n",
    "    p_test = clf.predict(x_test)\n",
    "    len(p_test)\n",
    "\n",
    "    \n",
    "\n",
    "    len(test_labels)\n",
    "\n",
    "\n",
    "    for i in range(len(p_test)):\n",
    "        sum1 += (test_labels[i] - p_test[i]) ** 2\n",
    "        sum3 += (test_labels[i] - y_pred[i]) ** 2\n",
    "        sum2 += (test_labels[i] - pd.Series(y_train).mean()) ** 2\n",
    "\n",
    "    #     sum2 += (test_labels[i] - 7) ** 2\n",
    "print(sum1 / len(test_labels)/N/2   )\n",
    "print(sum3 / len(test_labels)/N/2  )\n",
    "print(sum2 / len(test_labels)/N/2   )\n",
    "print()\n"
   ]
  },
  {
   "cell_type": "code",
   "execution_count": 30,
   "metadata": {},
   "outputs": [],
   "source": [
    "df_test  = pd.read_csv('c://test.csv')\n",
    "# df_test = test_feature\n",
    "df_test.fillna(df_test.median(),inplace = True)\n",
    "df_test  = df_test.drop(['体检日期','id'], axis=1)"
   ]
  },
  {
   "cell_type": "code",
   "execution_count": 31,
   "metadata": {},
   "outputs": [],
   "source": [
    "# df_test "
   ]
  },
  {
   "cell_type": "code",
   "execution_count": 32,
   "metadata": {},
   "outputs": [],
   "source": [
    "x_test = df_test[train_columns]\n",
    "x_test = x_test.replace('男',1)\n",
    "x_test = x_test.replace('女',0)\n",
    "# x_test"
   ]
  },
  {
   "cell_type": "code",
   "execution_count": 33,
   "metadata": {},
   "outputs": [],
   "source": [
    "for c in x_test.dtypes[x_test.dtypes == object].index.values:\n",
    "    x_test[c] = (x_test[c] == True)"
   ]
  },
  {
   "cell_type": "code",
   "execution_count": 34,
   "metadata": {},
   "outputs": [],
   "source": [
    "x_test = x_test.values.astype(np.float32, copy=False)\n"
   ]
  },
  {
   "cell_type": "code",
   "execution_count": 35,
   "metadata": {},
   "outputs": [
    {
     "data": {
      "text/plain": [
       "1000"
      ]
     },
     "execution_count": 35,
     "metadata": {},
     "output_type": "execute_result"
    }
   ],
   "source": [
    "clf.reset_parameter({\"num_threads\":1})\n",
    "p_test = clf.predict(x_test)\n",
    "len(p_test)\n"
   ]
  },
  {
   "cell_type": "code",
   "execution_count": 36,
   "metadata": {},
   "outputs": [],
   "source": [
    "pd.Series(p_test).to_csv('output_lgbt2.csv', index=False)"
   ]
  },
  {
   "cell_type": "code",
   "execution_count": null,
   "metadata": {},
   "outputs": [],
   "source": []
  }
 ],
 "metadata": {
  "kernelspec": {
   "display_name": "Python 3",
   "language": "python",
   "name": "python3"
  },
  "language_info": {
   "codemirror_mode": {
    "name": "ipython",
    "version": 3
   },
   "file_extension": ".py",
   "mimetype": "text/x-python",
   "name": "python",
   "nbconvert_exporter": "python",
   "pygments_lexer": "ipython3",
   "version": "3.6.3"
  }
 },
 "nbformat": 4,
 "nbformat_minor": 2
}
